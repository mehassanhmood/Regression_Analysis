{
 "cells": [
  {
   "cell_type": "markdown",
   "id": "c6c72e64",
   "metadata": {},
   "source": [
    "### Importing libraries and dependencies :"
   ]
  },
  {
   "cell_type": "code",
   "execution_count": 2,
   "id": "deb7d398",
   "metadata": {},
   "outputs": [],
   "source": [
    "import pandas as pd\n",
    "import numpy as np\n",
    "import warnings\n",
    "warnings.simplefilter(action='ignore',category=Warning)"
   ]
  },
  {
   "cell_type": "markdown",
   "id": "e1381948",
   "metadata": {},
   "source": [
    "### Time series analysis and modelling with CAD-JPY exchange rate data :"
   ]
  },
  {
   "cell_type": "code",
   "execution_count": 3,
   "id": "57363577",
   "metadata": {},
   "outputs": [],
   "source": [
    "# importing file and assigning variable:\n",
    "df = pd.read_csv('C:/Users/Zahra/Downloads/cad_jpy.csv',index_col='Date',parse_dates=True,infer_datetime_format=True)"
   ]
  },
  {
   "cell_type": "code",
   "execution_count": 4,
   "id": "ef579003",
   "metadata": {},
   "outputs": [
    {
     "data": {
      "text/html": [
       "<div>\n",
       "<style scoped>\n",
       "    .dataframe tbody tr th:only-of-type {\n",
       "        vertical-align: middle;\n",
       "    }\n",
       "\n",
       "    .dataframe tbody tr th {\n",
       "        vertical-align: top;\n",
       "    }\n",
       "\n",
       "    .dataframe thead th {\n",
       "        text-align: right;\n",
       "    }\n",
       "</style>\n",
       "<table border=\"1\" class=\"dataframe\">\n",
       "  <thead>\n",
       "    <tr style=\"text-align: right;\">\n",
       "      <th></th>\n",
       "      <th>Price</th>\n",
       "      <th>Open</th>\n",
       "      <th>High</th>\n",
       "      <th>Low</th>\n",
       "    </tr>\n",
       "    <tr>\n",
       "      <th>Date</th>\n",
       "      <th></th>\n",
       "      <th></th>\n",
       "      <th></th>\n",
       "      <th></th>\n",
       "    </tr>\n",
       "  </thead>\n",
       "  <tbody>\n",
       "    <tr>\n",
       "      <th>1990-01-02</th>\n",
       "      <td>126.37</td>\n",
       "      <td>126.31</td>\n",
       "      <td>126.37</td>\n",
       "      <td>126.31</td>\n",
       "    </tr>\n",
       "    <tr>\n",
       "      <th>1990-01-03</th>\n",
       "      <td>125.30</td>\n",
       "      <td>125.24</td>\n",
       "      <td>125.30</td>\n",
       "      <td>125.24</td>\n",
       "    </tr>\n",
       "    <tr>\n",
       "      <th>1990-01-04</th>\n",
       "      <td>123.46</td>\n",
       "      <td>123.41</td>\n",
       "      <td>123.46</td>\n",
       "      <td>123.41</td>\n",
       "    </tr>\n",
       "    <tr>\n",
       "      <th>1990-01-05</th>\n",
       "      <td>124.54</td>\n",
       "      <td>124.48</td>\n",
       "      <td>124.54</td>\n",
       "      <td>124.48</td>\n",
       "    </tr>\n",
       "    <tr>\n",
       "      <th>1990-01-08</th>\n",
       "      <td>124.27</td>\n",
       "      <td>124.21</td>\n",
       "      <td>124.27</td>\n",
       "      <td>124.21</td>\n",
       "    </tr>\n",
       "  </tbody>\n",
       "</table>\n",
       "</div>"
      ],
      "text/plain": [
       "             Price    Open    High     Low\n",
       "Date                                      \n",
       "1990-01-02  126.37  126.31  126.37  126.31\n",
       "1990-01-03  125.30  125.24  125.30  125.24\n",
       "1990-01-04  123.46  123.41  123.46  123.41\n",
       "1990-01-05  124.54  124.48  124.54  124.48\n",
       "1990-01-08  124.27  124.21  124.27  124.21"
      ]
     },
     "execution_count": 4,
     "metadata": {},
     "output_type": "execute_result"
    }
   ],
   "source": [
    "# trimming the data set:\n",
    "df  = df.loc['1990-01-01':]\n",
    "df.head()"
   ]
  },
  {
   "cell_type": "code",
   "execution_count": 5,
   "id": "f1eb56fc",
   "metadata": {},
   "outputs": [
    {
     "data": {
      "text/plain": [
       "<matplotlib.axes._subplots.AxesSubplot at 0x20a4867a7c8>"
      ]
     },
     "execution_count": 5,
     "metadata": {},
     "output_type": "execute_result"
    },
    {
     "data": {
      "image/png": "[encoded data removed]",
      "text/plain": [
       "<Figure size 432x288 with 1 Axes>"
      ]
     },
     "metadata": {
      "needs_background": "light"
     },
     "output_type": "display_data"
    }
   ],
   "source": [
    "# PLotting the price action to visualize any patterns or cyclical behaviour:\n",
    "df.Price.plot()"
   ]
  },
  {
   "cell_type": "markdown",
   "id": "1ea9f7ba",
   "metadata": {},
   "source": [
    "##### There is some seasonality and trend evident from just visualizing the data:"
   ]
  },
  {
   "cell_type": "markdown",
   "id": "eb71defd",
   "metadata": {},
   "source": [
    "### Decomposing data into noise and trend component of it using hpfilter:"
   ]
  },
  {
   "cell_type": "code",
   "execution_count": 6,
   "id": "ebde62f0",
   "metadata": {},
   "outputs": [],
   "source": [
    "import statsmodels.api as sm\n",
    "noise,trend = sm.tsa.filters.hpfilter(df.Price)\n"
   ]
  },
  {
   "cell_type": "code",
   "execution_count": 7,
   "id": "f2d18aca",
   "metadata": {},
   "outputs": [
    {
     "data": {
      "text/plain": [
       "<matplotlib.axes._subplots.AxesSubplot at 0x20a4d85ea08>"
      ]
     },
     "execution_count": 7,
     "metadata": {},
     "output_type": "execute_result"
    },
    {
     "data": {
      "image/png": "[encoded data removed]",
      "text/plain": [
       "<Figure size 432x288 with 1 Axes>"
      ]
     },
     "metadata": {
      "needs_background": "light"
     },
     "output_type": "display_data"
    }
   ],
   "source": [
    "noise.plot()"
   ]
  },
  {
   "cell_type": "code",
   "execution_count": 8,
   "id": "bf329d90",
   "metadata": {},
   "outputs": [
    {
     "data": {
      "text/plain": [
       "<matplotlib.axes._subplots.AxesSubplot at 0x20a4d9c9f08>"
      ]
     },
     "execution_count": 8,
     "metadata": {},
     "output_type": "execute_result"
    },
    {
     "data": {
      "image/png": "[encoded data removed]",
      "text/plain": [
       "<Figure size 432x288 with 1 Axes>"
      ]
     },
     "metadata": {
      "needs_background": "light"
     },
     "output_type": "display_data"
    }
   ],
   "source": [
    "trend.plot()"
   ]
  },
  {
   "cell_type": "code",
   "execution_count": 10,
   "id": "7746b414",
   "metadata": {},
   "outputs": [],
   "source": [
    "df_price = pd.DataFrame(df.Price)"
   ]
  },
  {
   "cell_type": "code",
   "execution_count": 11,
   "id": "c2e5b71f",
   "metadata": {},
   "outputs": [],
   "source": [
    "df_price['noise'] = noise"
   ]
  },
  {
   "cell_type": "code",
   "execution_count": 12,
   "id": "3a71a6f3",
   "metadata": {},
   "outputs": [],
   "source": [
    "df_price['trend'] = trend"
   ]
  },
  {
   "cell_type": "code",
   "execution_count": 13,
   "id": "86c35835",
   "metadata": {},
   "outputs": [
    {
     "data": {
      "text/html": [
       "<div>\n",
       "<style scoped>\n",
       "    .dataframe tbody tr th:only-of-type {\n",
       "        vertical-align: middle;\n",
       "    }\n",
       "\n",
       "    .dataframe tbody tr th {\n",
       "        vertical-align: top;\n",
       "    }\n",
       "\n",
       "    .dataframe thead th {\n",
       "        text-align: right;\n",
       "    }\n",
       "</style>\n",
       "<table border=\"1\" class=\"dataframe\">\n",
       "  <thead>\n",
       "    <tr style=\"text-align: right;\">\n",
       "      <th></th>\n",
       "      <th>Price</th>\n",
       "      <th>noise</th>\n",
       "      <th>trend</th>\n",
       "    </tr>\n",
       "    <tr>\n",
       "      <th>Date</th>\n",
       "      <th></th>\n",
       "      <th></th>\n",
       "      <th></th>\n",
       "    </tr>\n",
       "  </thead>\n",
       "  <tbody>\n",
       "    <tr>\n",
       "      <th>1990-01-02</th>\n",
       "      <td>126.37</td>\n",
       "      <td>0.519095</td>\n",
       "      <td>125.850905</td>\n",
       "    </tr>\n",
       "    <tr>\n",
       "      <th>1990-01-03</th>\n",
       "      <td>125.30</td>\n",
       "      <td>-0.379684</td>\n",
       "      <td>125.679684</td>\n",
       "    </tr>\n",
       "    <tr>\n",
       "      <th>1990-01-04</th>\n",
       "      <td>123.46</td>\n",
       "      <td>-2.048788</td>\n",
       "      <td>125.508788</td>\n",
       "    </tr>\n",
       "    <tr>\n",
       "      <th>1990-01-05</th>\n",
       "      <td>124.54</td>\n",
       "      <td>-0.798304</td>\n",
       "      <td>125.338304</td>\n",
       "    </tr>\n",
       "    <tr>\n",
       "      <th>1990-01-08</th>\n",
       "      <td>124.27</td>\n",
       "      <td>-0.897037</td>\n",
       "      <td>125.167037</td>\n",
       "    </tr>\n",
       "  </tbody>\n",
       "</table>\n",
       "</div>"
      ],
      "text/plain": [
       "             Price     noise       trend\n",
       "Date                                    \n",
       "1990-01-02  126.37  0.519095  125.850905\n",
       "1990-01-03  125.30 -0.379684  125.679684\n",
       "1990-01-04  123.46 -2.048788  125.508788\n",
       "1990-01-05  124.54 -0.798304  125.338304\n",
       "1990-01-08  124.27 -0.897037  125.167037"
      ]
     },
     "execution_count": 13,
     "metadata": {},
     "output_type": "execute_result"
    }
   ],
   "source": [
    "# data frame with the closing prices ,noise and trend component of it:\n",
    "df_price.head()"
   ]
  },
  {
   "cell_type": "code",
   "execution_count": 14,
   "id": "b06a7799",
   "metadata": {},
   "outputs": [
    {
     "data": {
      "text/plain": [
       "<matplotlib.axes._subplots.AxesSubplot at 0x20a4cd60c48>"
      ]
     },
     "execution_count": 14,
     "metadata": {},
     "output_type": "execute_result"
    },
    {
     "data": {
      "image/png": "[encoded data removed]",
      "text/plain": [
       "<Figure size 432x288 with 1 Axes>"
      ]
     },
     "metadata": {
      "needs_background": "light"
     },
     "output_type": "display_data"
    }
   ],
   "source": [
    "# plotting the trend and closing prices:\n",
    "df_price.loc['2015':][['Price','trend']].plot()"
   ]
  },
  {
   "cell_type": "markdown",
   "id": "6bc0c61b",
   "metadata": {},
   "source": [
    "##### This confirms our initial claim about the quality of trend being evident:"
   ]
  },
  {
   "cell_type": "markdown",
   "id": "cf42a2c9",
   "metadata": {},
   "source": [
    "### Forecasting Returns using an ARMA Model"
   ]
  },
  {
   "cell_type": "code",
   "execution_count": 16,
   "id": "7f3242a3",
   "metadata": {},
   "outputs": [
    {
     "data": {
      "text/html": [
       "<div>\n",
       "<style scoped>\n",
       "    .dataframe tbody tr th:only-of-type {\n",
       "        vertical-align: middle;\n",
       "    }\n",
       "\n",
       "    .dataframe tbody tr th {\n",
       "        vertical-align: top;\n",
       "    }\n",
       "\n",
       "    .dataframe thead th {\n",
       "        text-align: right;\n",
       "    }\n",
       "</style>\n",
       "<table border=\"1\" class=\"dataframe\">\n",
       "  <thead>\n",
       "    <tr style=\"text-align: right;\">\n",
       "      <th></th>\n",
       "      <th>returns</th>\n",
       "    </tr>\n",
       "    <tr>\n",
       "      <th>Date</th>\n",
       "      <th></th>\n",
       "    </tr>\n",
       "  </thead>\n",
       "  <tbody>\n",
       "    <tr>\n",
       "      <th>1990-01-02</th>\n",
       "      <td>NaN</td>\n",
       "    </tr>\n",
       "    <tr>\n",
       "      <th>1990-01-03</th>\n",
       "      <td>-0.846720</td>\n",
       "    </tr>\n",
       "    <tr>\n",
       "      <th>1990-01-04</th>\n",
       "      <td>-1.468476</td>\n",
       "    </tr>\n",
       "    <tr>\n",
       "      <th>1990-01-05</th>\n",
       "      <td>0.874777</td>\n",
       "    </tr>\n",
       "    <tr>\n",
       "      <th>1990-01-08</th>\n",
       "      <td>-0.216798</td>\n",
       "    </tr>\n",
       "  </tbody>\n",
       "</table>\n",
       "</div>"
      ],
      "text/plain": [
       "             returns\n",
       "Date                \n",
       "1990-01-02       NaN\n",
       "1990-01-03 -0.846720\n",
       "1990-01-04 -1.468476\n",
       "1990-01-05  0.874777\n",
       "1990-01-08 -0.216798"
      ]
     },
     "execution_count": 16,
     "metadata": {},
     "output_type": "execute_result"
    }
   ],
   "source": [
    "#  Making a data frame containing the daily returns :\n",
    "df_returns = pd.DataFrame(df['Price'].pct_change())*100\n",
    "df_returns.rename(columns={'Price':'returns'},inplace=True)\n",
    "df_returns.head()"
   ]
  },
  {
   "cell_type": "code",
   "execution_count": 17,
   "id": "479e362b",
   "metadata": {},
   "outputs": [],
   "source": [
    "# adding a feature of lagged returns:\n",
    "df_returns['lagged_returns'] = df_returns.returns.shift()"
   ]
  },
  {
   "cell_type": "code",
   "execution_count": 18,
   "id": "f186eadd",
   "metadata": {},
   "outputs": [],
   "source": [
    "df_returns = df_returns.replace(-np.inf,np.nan).dropna()"
   ]
  },
  {
   "cell_type": "code",
   "execution_count": 19,
   "id": "ee0fcd12",
   "metadata": {},
   "outputs": [
    {
     "data": {
      "text/html": [
       "<div>\n",
       "<style scoped>\n",
       "    .dataframe tbody tr th:only-of-type {\n",
       "        vertical-align: middle;\n",
       "    }\n",
       "\n",
       "    .dataframe tbody tr th {\n",
       "        vertical-align: top;\n",
       "    }\n",
       "\n",
       "    .dataframe thead th {\n",
       "        text-align: right;\n",
       "    }\n",
       "</style>\n",
       "<table border=\"1\" class=\"dataframe\">\n",
       "  <thead>\n",
       "    <tr style=\"text-align: right;\">\n",
       "      <th></th>\n",
       "      <th>returns</th>\n",
       "      <th>lagged_returns</th>\n",
       "    </tr>\n",
       "    <tr>\n",
       "      <th>Date</th>\n",
       "      <th></th>\n",
       "      <th></th>\n",
       "    </tr>\n",
       "  </thead>\n",
       "  <tbody>\n",
       "    <tr>\n",
       "      <th>2020-05-29</th>\n",
       "      <td>0.076697</td>\n",
       "      <td>-0.114913</td>\n",
       "    </tr>\n",
       "    <tr>\n",
       "      <th>2020-06-01</th>\n",
       "      <td>1.251756</td>\n",
       "      <td>0.076697</td>\n",
       "    </tr>\n",
       "    <tr>\n",
       "      <th>2020-06-02</th>\n",
       "      <td>1.425508</td>\n",
       "      <td>1.251756</td>\n",
       "    </tr>\n",
       "    <tr>\n",
       "      <th>2020-06-03</th>\n",
       "      <td>0.373134</td>\n",
       "      <td>1.425508</td>\n",
       "    </tr>\n",
       "    <tr>\n",
       "      <th>2020-06-04</th>\n",
       "      <td>0.012392</td>\n",
       "      <td>0.373134</td>\n",
       "    </tr>\n",
       "  </tbody>\n",
       "</table>\n",
       "</div>"
      ],
      "text/plain": [
       "             returns  lagged_returns\n",
       "Date                                \n",
       "2020-05-29  0.076697       -0.114913\n",
       "2020-06-01  1.251756        0.076697\n",
       "2020-06-02  1.425508        1.251756\n",
       "2020-06-03  0.373134        1.425508\n",
       "2020-06-04  0.012392        0.373134"
      ]
     },
     "execution_count": 19,
     "metadata": {},
     "output_type": "execute_result"
    }
   ],
   "source": [
    "df_returns.tail()"
   ]
  },
  {
   "cell_type": "code",
   "execution_count": 20,
   "id": "26124362",
   "metadata": {},
   "outputs": [],
   "source": [
    "from statsmodels.tsa.arima_model import ARMA"
   ]
  },
  {
   "cell_type": "code",
   "execution_count": 21,
   "id": "6be5d992",
   "metadata": {},
   "outputs": [
    {
     "name": "stderr",
     "output_type": "stream",
     "text": [
      "C:\\Users\\Zahra\\anaconda3\\envs\\pyvizenv\\lib\\site-packages\\statsmodels\\tsa\\base\\tsa_model.py:583: ValueWarning: A date index has been provided, but it has no associated frequency information and so will be ignored when e.g. forecasting.\n",
      "  ' ignored when e.g. forecasting.', ValueWarning)\n"
     ]
    }
   ],
   "source": [
    "# assigning the model a viraiable\n",
    "model = ARMA(df_returns.returns,order=(2,1))"
   ]
  },
  {
   "cell_type": "code",
   "execution_count": 22,
   "id": "366a7950",
   "metadata": {},
   "outputs": [],
   "source": [
    "# fitting the model:\n",
    "arma_results = model.fit()"
   ]
  },
  {
   "cell_type": "code",
   "execution_count": 23,
   "id": "7e15d69e",
   "metadata": {},
   "outputs": [
    {
     "data": {
      "text/html": [
       "<table class=\"simpletable\">\n",
       "<caption>ARMA Model Results</caption>\n",
       "<tr>\n",
       "  <th>Dep. Variable:</th>      <td>returns</td>     <th>  No. Observations:  </th>   <td>7927</td>   \n",
       "</tr>\n",
       "<tr>\n",
       "  <th>Model:</th>            <td>ARMA(2, 1)</td>    <th>  Log Likelihood     </th> <td>-9750.667</td>\n",
       "</tr>\n",
       "<tr>\n",
       "  <th>Method:</th>             <td>css-mle</td>     <th>  S.D. of innovations</th>   <td>0.828</td>  \n",
       "</tr>\n",
       "<tr>\n",
       "  <th>Date:</th>          <td>Thu, 05 May 2022</td> <th>  AIC                </th> <td>19511.333</td>\n",
       "</tr>\n",
       "<tr>\n",
       "  <th>Time:</th>              <td>06:18:43</td>     <th>  BIC                </th> <td>19546.224</td>\n",
       "</tr>\n",
       "<tr>\n",
       "  <th>Sample:</th>                <td>0</td>        <th>  HQIC               </th> <td>19523.281</td>\n",
       "</tr>\n",
       "<tr>\n",
       "  <th></th>                       <td> </td>        <th>                     </th>     <td> </td>    \n",
       "</tr>\n",
       "</table>\n",
       "<table class=\"simpletable\">\n",
       "<tr>\n",
       "        <td></td>           <th>coef</th>     <th>std err</th>      <th>z</th>      <th>P>|z|</th>  <th>[0.025</th>    <th>0.975]</th>  \n",
       "</tr>\n",
       "<tr>\n",
       "  <th>const</th>         <td>   -0.0021</td> <td>    0.009</td> <td>   -0.233</td> <td> 0.816</td> <td>   -0.020</td> <td>    0.016</td>\n",
       "</tr>\n",
       "<tr>\n",
       "  <th>ar.L1.returns</th> <td>   -0.8537</td> <td>    0.165</td> <td>   -5.181</td> <td> 0.000</td> <td>   -1.177</td> <td>   -0.531</td>\n",
       "</tr>\n",
       "<tr>\n",
       "  <th>ar.L2.returns</th> <td>   -0.0198</td> <td>    0.013</td> <td>   -1.480</td> <td> 0.139</td> <td>   -0.046</td> <td>    0.006</td>\n",
       "</tr>\n",
       "<tr>\n",
       "  <th>ma.L1.returns</th> <td>    0.8233</td> <td>    0.164</td> <td>    5.010</td> <td> 0.000</td> <td>    0.501</td> <td>    1.145</td>\n",
       "</tr>\n",
       "</table>\n",
       "<table class=\"simpletable\">\n",
       "<caption>Roots</caption>\n",
       "<tr>\n",
       "    <td></td>   <th>            Real</th>  <th>         Imaginary</th> <th>         Modulus</th>  <th>        Frequency</th>\n",
       "</tr>\n",
       "<tr>\n",
       "  <th>AR.1</th> <td>          -1.2051</td> <td>          +0.0000j</td> <td>           1.2051</td> <td>           0.5000</td>\n",
       "</tr>\n",
       "<tr>\n",
       "  <th>AR.2</th> <td>         -41.8723</td> <td>          +0.0000j</td> <td>          41.8723</td> <td>           0.5000</td>\n",
       "</tr>\n",
       "<tr>\n",
       "  <th>MA.1</th> <td>          -1.2146</td> <td>          +0.0000j</td> <td>           1.2146</td> <td>           0.5000</td>\n",
       "</tr>\n",
       "</table>"
      ],
      "text/plain": [
       "<class 'statsmodels.iolib.summary.Summary'>\n",
       "\"\"\"\n",
       "                              ARMA Model Results                              \n",
       "==============================================================================\n",
       "Dep. Variable:                returns   No. Observations:                 7927\n",
       "Model:                     ARMA(2, 1)   Log Likelihood               -9750.667\n",
       "Method:                       css-mle   S.D. of innovations              0.828\n",
       "Date:                Thu, 05 May 2022   AIC                          19511.333\n",
       "Time:                        06:18:43   BIC                          19546.224\n",
       "Sample:                             0   HQIC                         19523.281\n",
       "                                                                              \n",
       "=================================================================================\n",
       "                    coef    std err          z      P>|z|      [0.025      0.975]\n",
       "---------------------------------------------------------------------------------\n",
       "const            -0.0021      0.009     -0.233      0.816      -0.020       0.016\n",
       "ar.L1.returns    -0.8537      0.165     -5.181      0.000      -1.177      -0.531\n",
       "ar.L2.returns    -0.0198      0.013     -1.480      0.139      -0.046       0.006\n",
       "ma.L1.returns     0.8233      0.164      5.010      0.000       0.501       1.145\n",
       "                                    Roots                                    \n",
       "=============================================================================\n",
       "                  Real          Imaginary           Modulus         Frequency\n",
       "-----------------------------------------------------------------------------\n",
       "AR.1           -1.2051           +0.0000j            1.2051            0.5000\n",
       "AR.2          -41.8723           +0.0000j           41.8723            0.5000\n",
       "MA.1           -1.2146           +0.0000j            1.2146            0.5000\n",
       "-----------------------------------------------------------------------------\n",
       "\"\"\""
      ]
     },
     "execution_count": 23,
     "metadata": {},
     "output_type": "execute_result"
    }
   ],
   "source": [
    "# summary of model when ran on the data :\n",
    "arma_results.summary()"
   ]
  },
  {
   "cell_type": "markdown",
   "id": "769188e2",
   "metadata": {},
   "source": [
    "##### As the p-value of one coefficient is higher than the threshold of 0.05, this model is not a good fit."
   ]
  },
  {
   "cell_type": "code",
   "execution_count": 24,
   "id": "b9223e92",
   "metadata": {},
   "outputs": [],
   "source": [
    "#Forecasting the next 5 days of possible orice behaviour : \n",
    "forecast = arma_results.forecast(steps=5)"
   ]
  },
  {
   "cell_type": "code",
   "execution_count": 25,
   "id": "e28050bc",
   "metadata": {},
   "outputs": [],
   "source": [
    "forecast_viz = pd.DataFrame(forecast[0])"
   ]
  },
  {
   "cell_type": "code",
   "execution_count": 26,
   "id": "3b9fa3cd",
   "metadata": {},
   "outputs": [
    {
     "data": {
      "text/plain": [
       "<matplotlib.axes._subplots.AxesSubplot at 0x20a4eded908>"
      ]
     },
     "execution_count": 26,
     "metadata": {},
     "output_type": "execute_result"
    },
    {
     "data": {
      "image/png": "[encoded data removed]",
      "text/plain": [
       "<Figure size 432x288 with 1 Axes>"
      ]
     },
     "metadata": {
      "needs_background": "light"
     },
     "output_type": "display_data"
    }
   ],
   "source": [
    "forecast_viz.plot()"
   ]
  },
  {
   "cell_type": "markdown",
   "id": "bdf92b13",
   "metadata": {},
   "source": [
    "### Forecasting using Arima Model :"
   ]
  },
  {
   "cell_type": "code",
   "execution_count": 27,
   "id": "2e7b8da2",
   "metadata": {},
   "outputs": [],
   "source": [
    "from statsmodels.tsa.arima_model import ARIMA"
   ]
  },
  {
   "cell_type": "code",
   "execution_count": 29,
   "id": "0572f57a",
   "metadata": {},
   "outputs": [
    {
     "name": "stderr",
     "output_type": "stream",
     "text": [
      "C:\\Users\\Zahra\\anaconda3\\envs\\pyvizenv\\lib\\site-packages\\statsmodels\\tsa\\base\\tsa_model.py:583: ValueWarning: A date index has been provided, but it has no associated frequency information and so will be ignored when e.g. forecasting.\n",
      "  ' ignored when e.g. forecasting.', ValueWarning)\n",
      "C:\\Users\\Zahra\\anaconda3\\envs\\pyvizenv\\lib\\site-packages\\statsmodels\\tsa\\base\\tsa_model.py:583: ValueWarning: A date index has been provided, but it has no associated frequency information and so will be ignored when e.g. forecasting.\n",
      "  ' ignored when e.g. forecasting.', ValueWarning)\n"
     ]
    }
   ],
   "source": [
    "# \\Folloqwing the same steps as before :\n",
    "model = ARIMA(df.Price,order=(5,1,1))"
   ]
  },
  {
   "cell_type": "code",
   "execution_count": 30,
   "id": "f7d1d2a5",
   "metadata": {},
   "outputs": [],
   "source": [
    "results_arima = model.fit()"
   ]
  },
  {
   "cell_type": "code",
   "execution_count": 31,
   "id": "2734a7f8",
   "metadata": {},
   "outputs": [
    {
     "data": {
      "text/html": [
       "<table class=\"simpletable\">\n",
       "<caption>ARIMA Model Results</caption>\n",
       "<tr>\n",
       "  <th>Dep. Variable:</th>      <td>D.Price</td>     <th>  No. Observations:  </th>   <td>7928</td>   \n",
       "</tr>\n",
       "<tr>\n",
       "  <th>Model:</th>          <td>ARIMA(5, 1, 1)</td>  <th>  Log Likelihood     </th> <td>-8745.622</td>\n",
       "</tr>\n",
       "<tr>\n",
       "  <th>Method:</th>             <td>css-mle</td>     <th>  S.D. of innovations</th>   <td>0.729</td>  \n",
       "</tr>\n",
       "<tr>\n",
       "  <th>Date:</th>          <td>Thu, 05 May 2022</td> <th>  AIC                </th> <td>17507.244</td>\n",
       "</tr>\n",
       "<tr>\n",
       "  <th>Time:</th>              <td>06:21:30</td>     <th>  BIC                </th> <td>17563.070</td>\n",
       "</tr>\n",
       "<tr>\n",
       "  <th>Sample:</th>                <td>1</td>        <th>  HQIC               </th> <td>17526.361</td>\n",
       "</tr>\n",
       "<tr>\n",
       "  <th></th>                       <td> </td>        <th>                     </th>     <td> </td>    \n",
       "</tr>\n",
       "</table>\n",
       "<table class=\"simpletable\">\n",
       "<tr>\n",
       "        <td></td>           <th>coef</th>     <th>std err</th>      <th>z</th>      <th>P>|z|</th>  <th>[0.025</th>    <th>0.975]</th>  \n",
       "</tr>\n",
       "<tr>\n",
       "  <th>const</th>         <td>   -0.0058</td> <td>    0.008</td> <td>   -0.743</td> <td> 0.458</td> <td>   -0.021</td> <td>    0.009</td>\n",
       "</tr>\n",
       "<tr>\n",
       "  <th>ar.L1.D.Price</th> <td>    0.4287</td> <td>    0.246</td> <td>    1.740</td> <td> 0.082</td> <td>   -0.054</td> <td>    0.912</td>\n",
       "</tr>\n",
       "<tr>\n",
       "  <th>ar.L2.D.Price</th> <td>    0.0177</td> <td>    0.014</td> <td>    1.264</td> <td> 0.206</td> <td>   -0.010</td> <td>    0.045</td>\n",
       "</tr>\n",
       "<tr>\n",
       "  <th>ar.L3.D.Price</th> <td>   -0.0118</td> <td>    0.012</td> <td>   -0.959</td> <td> 0.337</td> <td>   -0.036</td> <td>    0.012</td>\n",
       "</tr>\n",
       "<tr>\n",
       "  <th>ar.L4.D.Price</th> <td>    0.0110</td> <td>    0.012</td> <td>    0.879</td> <td> 0.379</td> <td>   -0.013</td> <td>    0.035</td>\n",
       "</tr>\n",
       "<tr>\n",
       "  <th>ar.L5.D.Price</th> <td>   -0.0191</td> <td>    0.011</td> <td>   -1.702</td> <td> 0.089</td> <td>   -0.041</td> <td>    0.003</td>\n",
       "</tr>\n",
       "<tr>\n",
       "  <th>ma.L1.D.Price</th> <td>   -0.4568</td> <td>    0.246</td> <td>   -1.856</td> <td> 0.064</td> <td>   -0.939</td> <td>    0.026</td>\n",
       "</tr>\n",
       "</table>\n",
       "<table class=\"simpletable\">\n",
       "<caption>Roots</caption>\n",
       "<tr>\n",
       "    <td></td>   <th>            Real</th>  <th>         Imaginary</th> <th>         Modulus</th>  <th>        Frequency</th>\n",
       "</tr>\n",
       "<tr>\n",
       "  <th>AR.1</th> <td>           1.7660</td> <td>          -0.7702j</td> <td>           1.9266</td> <td>          -0.0655</td>\n",
       "</tr>\n",
       "<tr>\n",
       "  <th>AR.2</th> <td>           1.7660</td> <td>          +0.7702j</td> <td>           1.9266</td> <td>           0.0655</td>\n",
       "</tr>\n",
       "<tr>\n",
       "  <th>AR.3</th> <td>          -2.3649</td> <td>          -0.0000j</td> <td>           2.3649</td> <td>          -0.5000</td>\n",
       "</tr>\n",
       "<tr>\n",
       "  <th>AR.4</th> <td>          -0.2974</td> <td>          -2.4212j</td> <td>           2.4394</td> <td>          -0.2695</td>\n",
       "</tr>\n",
       "<tr>\n",
       "  <th>AR.5</th> <td>          -0.2974</td> <td>          +2.4212j</td> <td>           2.4394</td> <td>           0.2695</td>\n",
       "</tr>\n",
       "<tr>\n",
       "  <th>MA.1</th> <td>           2.1892</td> <td>          +0.0000j</td> <td>           2.1892</td> <td>           0.0000</td>\n",
       "</tr>\n",
       "</table>"
      ],
      "text/plain": [
       "<class 'statsmodels.iolib.summary.Summary'>\n",
       "\"\"\"\n",
       "                             ARIMA Model Results                              \n",
       "==============================================================================\n",
       "Dep. Variable:                D.Price   No. Observations:                 7928\n",
       "Model:                 ARIMA(5, 1, 1)   Log Likelihood               -8745.622\n",
       "Method:                       css-mle   S.D. of innovations              0.729\n",
       "Date:                Thu, 05 May 2022   AIC                          17507.244\n",
       "Time:                        06:21:30   BIC                          17563.070\n",
       "Sample:                             1   HQIC                         17526.361\n",
       "                                                                              \n",
       "=================================================================================\n",
       "                    coef    std err          z      P>|z|      [0.025      0.975]\n",
       "---------------------------------------------------------------------------------\n",
       "const            -0.0058      0.008     -0.743      0.458      -0.021       0.009\n",
       "ar.L1.D.Price     0.4287      0.246      1.740      0.082      -0.054       0.912\n",
       "ar.L2.D.Price     0.0177      0.014      1.264      0.206      -0.010       0.045\n",
       "ar.L3.D.Price    -0.0118      0.012     -0.959      0.337      -0.036       0.012\n",
       "ar.L4.D.Price     0.0110      0.012      0.879      0.379      -0.013       0.035\n",
       "ar.L5.D.Price    -0.0191      0.011     -1.702      0.089      -0.041       0.003\n",
       "ma.L1.D.Price    -0.4568      0.246     -1.856      0.064      -0.939       0.026\n",
       "                                    Roots                                    \n",
       "=============================================================================\n",
       "                  Real          Imaginary           Modulus         Frequency\n",
       "-----------------------------------------------------------------------------\n",
       "AR.1            1.7660           -0.7702j            1.9266           -0.0655\n",
       "AR.2            1.7660           +0.7702j            1.9266            0.0655\n",
       "AR.3           -2.3649           -0.0000j            2.3649           -0.5000\n",
       "AR.4           -0.2974           -2.4212j            2.4394           -0.2695\n",
       "AR.5           -0.2974           +2.4212j            2.4394            0.2695\n",
       "MA.1            2.1892           +0.0000j            2.1892            0.0000\n",
       "-----------------------------------------------------------------------------\n",
       "\"\"\""
      ]
     },
     "execution_count": 31,
     "metadata": {},
     "output_type": "execute_result"
    }
   ],
   "source": [
    "results_arima.summary()"
   ]
  },
  {
   "cell_type": "code",
   "execution_count": 32,
   "id": "9f18339e",
   "metadata": {},
   "outputs": [],
   "source": [
    "#  5 day forecast:\n",
    "forecast_arima = results_arima.forecast(steps=5)"
   ]
  },
  {
   "cell_type": "code",
   "execution_count": 34,
   "id": "472ce28f",
   "metadata": {},
   "outputs": [
    {
     "data": {
      "text/plain": [
       "<matplotlib.axes._subplots.AxesSubplot at 0x20a00fb93c8>"
      ]
     },
     "execution_count": 34,
     "metadata": {},
     "output_type": "execute_result"
    },
    {
     "data": {
      "image/png": "[encoded data removed]",
      "text/plain": [
       "<Figure size 432x288 with 1 Axes>"
      ]
     },
     "metadata": {
      "needs_background": "light"
     },
     "output_type": "display_data"
    }
   ],
   "source": [
    "# visualizing the forecast :\n",
    "pd.DataFrame(forecast_arima[0]).plot()"
   ]
  },
  {
   "cell_type": "markdown",
   "id": "18ee355c",
   "metadata": {},
   "source": [
    "##### According to the model the price od cad against jpy is to fall:"
   ]
  },
  {
   "cell_type": "markdown",
   "id": "1cfbb490",
   "metadata": {},
   "source": [
    "### Volatility :"
   ]
  },
  {
   "cell_type": "code",
   "execution_count": 35,
   "id": "74e1642d",
   "metadata": {},
   "outputs": [],
   "source": [
    "from arch import arch_model"
   ]
  },
  {
   "cell_type": "code",
   "execution_count": 36,
   "id": "ef8c4707",
   "metadata": {},
   "outputs": [],
   "source": [
    "# forecasting volatility by auto regressing on the past data using Garch Model:\n",
    "model_garch = arch_model(df_returns.returns,mean='Zero',vol='Garch',p=2,q=1)"
   ]
  },
  {
   "cell_type": "code",
   "execution_count": 37,
   "id": "fb6d4882",
   "metadata": {},
   "outputs": [
    {
     "name": "stdout",
     "output_type": "stream",
     "text": [
      "Iteration:      1,   Func. Count:      6,   Neg. LLF: 46542.04597178945\n",
      "Iteration:      2,   Func. Count:     16,   Neg. LLF: 365917538.276387\n",
      "Iteration:      3,   Func. Count:     22,   Neg. LLF: 8927.589604015626\n",
      "Iteration:      4,   Func. Count:     27,   Neg. LLF: 11767.015590743413\n",
      "Iteration:      5,   Func. Count:     33,   Neg. LLF: 10426.004949866885\n",
      "Iteration:      6,   Func. Count:     41,   Neg. LLF: 8915.129921714604\n",
      "Iteration:      7,   Func. Count:     47,   Neg. LLF: 8909.854924811396\n",
      "Iteration:      8,   Func. Count:     52,   Neg. LLF: 8909.770282078221\n",
      "Iteration:      9,   Func. Count:     57,   Neg. LLF: 8909.765000915173\n",
      "Iteration:     10,   Func. Count:     62,   Neg. LLF: 8909.763845153391\n",
      "Iteration:     11,   Func. Count:     67,   Neg. LLF: 8909.763731338619\n",
      "Iteration:     12,   Func. Count:     72,   Neg. LLF: 8909.763660107834\n",
      "Iteration:     13,   Func. Count:     77,   Neg. LLF: 22678.949689310735\n",
      "Optimization terminated successfully    (Exit mode 0)\n",
      "            Current function value: 8909.763660105174\n",
      "            Iterations: 14\n",
      "            Function evaluations: 83\n",
      "            Gradient evaluations: 13\n"
     ]
    }
   ],
   "source": [
    "results_garch=model_garch.fit()"
   ]
  },
  {
   "cell_type": "code",
   "execution_count": 38,
   "id": "4ae313e2",
   "metadata": {},
   "outputs": [
    {
     "data": {
      "text/html": [
       "<table class=\"simpletable\">\n",
       "<caption>Zero Mean - GARCH Model Results</caption>\n",
       "<tr>\n",
       "  <th>Dep. Variable:</th>       <td>returns</td>      <th>  R-squared:         </th>  <td>   0.000</td> \n",
       "</tr>\n",
       "<tr>\n",
       "  <th>Mean Model:</th>         <td>Zero Mean</td>     <th>  Adj. R-squared:    </th>  <td>   0.000</td> \n",
       "</tr>\n",
       "<tr>\n",
       "  <th>Vol Model:</th>            <td>GARCH</td>       <th>  Log-Likelihood:    </th> <td>  -8909.76</td>\n",
       "</tr>\n",
       "<tr>\n",
       "  <th>Distribution:</th>        <td>Normal</td>       <th>  AIC:               </th> <td>   17827.5</td>\n",
       "</tr>\n",
       "<tr>\n",
       "  <th>Method:</th>        <td>Maximum Likelihood</td> <th>  BIC:               </th> <td>   17855.4</td>\n",
       "</tr>\n",
       "<tr>\n",
       "  <th></th>                        <td></td>          <th>  No. Observations:  </th>    <td>7927</td>   \n",
       "</tr>\n",
       "<tr>\n",
       "  <th>Date:</th>           <td>Thu, May 05 2022</td>  <th>  Df Residuals:      </th>    <td>7927</td>   \n",
       "</tr>\n",
       "<tr>\n",
       "  <th>Time:</th>               <td>06:24:25</td>      <th>  Df Model:          </th>      <td>0</td>    \n",
       "</tr>\n",
       "</table>\n",
       "<table class=\"simpletable\">\n",
       "<caption>Volatility Model</caption>\n",
       "<tr>\n",
       "      <td></td>        <th>coef</th>     <th>std err</th>      <th>t</th>       <th>P>|t|</th>      <th>95.0% Conf. Int.</th>   \n",
       "</tr>\n",
       "<tr>\n",
       "  <th>omega</th>    <td>9.0704e-03</td> <td>2.544e-03</td> <td>    3.566</td> <td>3.625e-04</td>  <td>[4.085e-03,1.406e-02]</td>\n",
       "</tr>\n",
       "<tr>\n",
       "  <th>alpha[1]</th> <td>    0.0624</td> <td>1.835e-02</td> <td>    3.402</td> <td>6.681e-04</td>  <td>[2.647e-02,9.839e-02]</td>\n",
       "</tr>\n",
       "<tr>\n",
       "  <th>alpha[2]</th> <td>1.4113e-07</td> <td>2.009e-02</td> <td>7.023e-06</td> <td>    1.000</td> <td>[-3.938e-02,3.939e-02]</td>\n",
       "</tr>\n",
       "<tr>\n",
       "  <th>beta[1]</th>  <td>    0.9243</td> <td>1.229e-02</td> <td>   75.235</td>   <td>0.000</td>      <td>[  0.900,  0.948]</td>  \n",
       "</tr>\n",
       "</table><br/><br/>Covariance estimator: robust"
      ],
      "text/plain": [
       "<class 'statsmodels.iolib.summary.Summary'>\n",
       "\"\"\"\n",
       "                       Zero Mean - GARCH Model Results                        \n",
       "==============================================================================\n",
       "Dep. Variable:                returns   R-squared:                       0.000\n",
       "Mean Model:                 Zero Mean   Adj. R-squared:                  0.000\n",
       "Vol Model:                      GARCH   Log-Likelihood:               -8909.76\n",
       "Distribution:                  Normal   AIC:                           17827.5\n",
       "Method:            Maximum Likelihood   BIC:                           17855.4\n",
       "                                        No. Observations:                 7927\n",
       "Date:                Thu, May 05 2022   Df Residuals:                     7927\n",
       "Time:                        06:24:25   Df Model:                            0\n",
       "                               Volatility Model                              \n",
       "=============================================================================\n",
       "                 coef    std err          t      P>|t|       95.0% Conf. Int.\n",
       "-----------------------------------------------------------------------------\n",
       "omega      9.0704e-03  2.544e-03      3.566  3.625e-04  [4.085e-03,1.406e-02]\n",
       "alpha[1]       0.0624  1.835e-02      3.402  6.681e-04  [2.647e-02,9.839e-02]\n",
       "alpha[2]   1.4113e-07  2.009e-02  7.023e-06      1.000 [-3.938e-02,3.939e-02]\n",
       "beta[1]        0.9243  1.229e-02     75.235      0.000      [  0.900,  0.948]\n",
       "=============================================================================\n",
       "\n",
       "Covariance estimator: robust\n",
       "\"\"\""
      ]
     },
     "execution_count": 38,
     "metadata": {},
     "output_type": "execute_result"
    }
   ],
   "source": [
    "results_garch.summary()"
   ]
  },
  {
   "cell_type": "code",
   "execution_count": 39,
   "id": "cd41993b",
   "metadata": {},
   "outputs": [
    {
     "data": {
      "text/plain": [
       "'2020-06-04'"
      ]
     },
     "execution_count": 39,
     "metadata": {},
     "output_type": "execute_result"
    }
   ],
   "source": [
    "last_day = df_returns.index.max().strftime('%Y-%m-%d')\n",
    "last_day"
   ]
  },
  {
   "cell_type": "code",
   "execution_count": 40,
   "id": "267d2f84",
   "metadata": {},
   "outputs": [],
   "source": [
    "# 5-day forecast :\n",
    "forecast_horizon = 5"
   ]
  },
  {
   "cell_type": "code",
   "execution_count": 41,
   "id": "9ab01d23",
   "metadata": {},
   "outputs": [],
   "source": [
    "forecast_garch = results_garch.forecast(start = last_day,horizon = forecast_horizon)"
   ]
  },
  {
   "cell_type": "code",
   "execution_count": 42,
   "id": "faa69f34",
   "metadata": {},
   "outputs": [
    {
     "data": {
      "text/html": [
       "<div>\n",
       "<style scoped>\n",
       "    .dataframe tbody tr th:only-of-type {\n",
       "        vertical-align: middle;\n",
       "    }\n",
       "\n",
       "    .dataframe tbody tr th {\n",
       "        vertical-align: top;\n",
       "    }\n",
       "\n",
       "    .dataframe thead th {\n",
       "        text-align: right;\n",
       "    }\n",
       "</style>\n",
       "<table border=\"1\" class=\"dataframe\">\n",
       "  <thead>\n",
       "    <tr style=\"text-align: right;\">\n",
       "      <th></th>\n",
       "      <th>h.1</th>\n",
       "      <th>h.2</th>\n",
       "      <th>h.3</th>\n",
       "      <th>h.4</th>\n",
       "      <th>h.5</th>\n",
       "    </tr>\n",
       "    <tr>\n",
       "      <th>Date</th>\n",
       "      <th></th>\n",
       "      <th></th>\n",
       "      <th></th>\n",
       "      <th></th>\n",
       "      <th></th>\n",
       "    </tr>\n",
       "  </thead>\n",
       "  <tbody>\n",
       "    <tr>\n",
       "      <th>2020-06-04</th>\n",
       "      <td>12.566442</td>\n",
       "      <td>12.574129</td>\n",
       "      <td>12.58171</td>\n",
       "      <td>12.589186</td>\n",
       "      <td>12.596559</td>\n",
       "    </tr>\n",
       "  </tbody>\n",
       "</table>\n",
       "</div>"
      ],
      "text/plain": [
       "                  h.1        h.2       h.3        h.4        h.5\n",
       "Date                                                            \n",
       "2020-06-04  12.566442  12.574129  12.58171  12.589186  12.596559"
      ]
     },
     "execution_count": 42,
     "metadata": {},
     "output_type": "execute_result"
    }
   ],
   "source": [
    "intermediate = np.sqrt(forecast_garch.variance.dropna()*252)\n",
    "intermediate.head()"
   ]
  },
  {
   "cell_type": "code",
   "execution_count": 43,
   "id": "1986da9a",
   "metadata": {},
   "outputs": [
    {
     "data": {
      "text/html": [
       "<div>\n",
       "<style scoped>\n",
       "    .dataframe tbody tr th:only-of-type {\n",
       "        vertical-align: middle;\n",
       "    }\n",
       "\n",
       "    .dataframe tbody tr th {\n",
       "        vertical-align: top;\n",
       "    }\n",
       "\n",
       "    .dataframe thead th {\n",
       "        text-align: right;\n",
       "    }\n",
       "</style>\n",
       "<table border=\"1\" class=\"dataframe\">\n",
       "  <thead>\n",
       "    <tr style=\"text-align: right;\">\n",
       "      <th>Date</th>\n",
       "      <th>2020-06-04</th>\n",
       "    </tr>\n",
       "  </thead>\n",
       "  <tbody>\n",
       "    <tr>\n",
       "      <th>h.1</th>\n",
       "      <td>12.566442</td>\n",
       "    </tr>\n",
       "    <tr>\n",
       "      <th>h.2</th>\n",
       "      <td>12.574129</td>\n",
       "    </tr>\n",
       "    <tr>\n",
       "      <th>h.3</th>\n",
       "      <td>12.581710</td>\n",
       "    </tr>\n",
       "    <tr>\n",
       "      <th>h.4</th>\n",
       "      <td>12.589186</td>\n",
       "    </tr>\n",
       "    <tr>\n",
       "      <th>h.5</th>\n",
       "      <td>12.596559</td>\n",
       "    </tr>\n",
       "  </tbody>\n",
       "</table>\n",
       "</div>"
      ],
      "text/plain": [
       "Date  2020-06-04\n",
       "h.1    12.566442\n",
       "h.2    12.574129\n",
       "h.3    12.581710\n",
       "h.4    12.589186\n",
       "h.5    12.596559"
      ]
     },
     "execution_count": 43,
     "metadata": {},
     "output_type": "execute_result"
    }
   ],
   "source": [
    "final = intermediate.dropna().T\n",
    "final.head()"
   ]
  },
  {
   "cell_type": "code",
   "execution_count": 44,
   "id": "6490220a",
   "metadata": {},
   "outputs": [
    {
     "data": {
      "text/plain": [
       "<matplotlib.axes._subplots.AxesSubplot at 0x20a02b1e588>"
      ]
     },
     "execution_count": 44,
     "metadata": {},
     "output_type": "execute_result"
    },
    {
     "data": {
      "image/png": "[encoded data removed]",
      "text/plain": [
       "<Figure size 432x288 with 1 Axes>"
      ]
     },
     "metadata": {
      "needs_background": "light"
     },
     "output_type": "display_data"
    }
   ],
   "source": [
    "# visuallising the forecasted volatility\n",
    "final.plot()"
   ]
  },
  {
   "cell_type": "markdown",
   "id": "c7c04769",
   "metadata": {},
   "source": [
    "### Conclusions :"
   ]
  },
  {
   "cell_type": "code",
   "execution_count": 45,
   "id": "9506f4c3",
   "metadata": {},
   "outputs": [],
   "source": [
    "# Based on model, cad is to lose value against jpy , so we can be long yen."
   ]
  },
  {
   "cell_type": "code",
   "execution_count": 46,
   "id": "46f33282",
   "metadata": {},
   "outputs": [],
   "source": [
    "# However volatility according to garch is to increase which increases our risk."
   ]
  },
  {
   "cell_type": "code",
   "execution_count": 47,
   "id": "12a45718",
   "metadata": {},
   "outputs": [],
   "source": [
    "# Among the three models the relatively relaible one would be garch."
   ]
  }
 ],
 "metadata": {
  "kernelspec": {
   "display_name": "Python [conda env:pyvizenv] *",
   "language": "python",
   "name": "conda-env-pyvizenv-py"
  },
  "language_info": {
   "codemirror_mode": {
    "name": "ipython",
    "version": 3
   },
   "file_extension": ".py",
   "mimetype": "text/x-python",
   "name": "python",
   "nbconvert_exporter": "python",
   "pygments_lexer": "ipython3",
   "version": "3.7.11"
  }
 },
 "nbformat": 4,
 "nbformat_minor": 5
}
